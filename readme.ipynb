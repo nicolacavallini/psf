{
 "cells": [
  {
   "cell_type": "markdown",
   "metadata": {},
   "source": [
    "# Point Spread Function\n",
    "\n",
    "This is a point spread function implementation for a `python` novice. No insight will be provided on the psf definition, but some hints on its `python` implementation. Several `python` programming techniques are presented, and a psf implementation is provided."
   ]
  },
  {
   "cell_type": "markdown",
   "metadata": {},
   "source": [
    "## Lambda functions\n",
    "\n",
    "Supppose our goal is to implement a composite function $f(g(h(x)))$ of relatively simple functions. In plain python the solution is something like:\n",
    "\n",
    "```\n",
    "def f(x):\n",
    "    fx = implementation\n",
    "    return fx\n",
    "\n",
    "def g(x):\n",
    "    gx = implementation\n",
    "    return gx\n",
    "\n",
    "def h(x):\n",
    "    hx = implementation\n",
    "    return hx\n",
    "\n",
    "if __name__ == \"__main__\":\n",
    "\n",
    "    result = f(g(h(x)))\n",
    "```\n",
    "\n",
    "This is a case where lambda functions come handy, saving quite some lines of code:\n",
    "\n",
    "```\n",
    "f = lambda x : implementation\n",
    "\n",
    "g = lambda x : implementation\n",
    "\n",
    "h = lambda x : implementation\n",
    "\n",
    "if __name__ == \"__main__\":\n",
    "\n",
    "    result = f(g(h(x)))\n",
    "```"
   ]
  },
  {
   "cell_type": "markdown",
   "metadata": {},
   "source": [
    "## Lists and Lambda functions\n",
    "\n",
    "A standars `list` is a sequence of entries:"
   ]
  },
  {
   "cell_type": "code",
   "execution_count": 2,
   "metadata": {},
   "outputs": [
    {
     "name": "stdout",
     "output_type": "stream",
     "text": [
      "a\n",
      "b\n",
      "c\n"
     ]
    }
   ],
   "source": [
    "L = [\"a\",\"b\",\"c\"]\n",
    "for l in L:\n",
    "    print(l)"
   ]
  },
  {
   "cell_type": "markdown",
   "metadata": {},
   "source": [
    "naturally we can acces entries of our list using indices:"
   ]
  },
  {
   "cell_type": "code",
   "execution_count": 4,
   "metadata": {},
   "outputs": [
    {
     "name": "stdout",
     "output_type": "stream",
     "text": [
      "e\n",
      "f\n",
      "g\n"
     ]
    }
   ],
   "source": [
    "M = [\"e\",\"f\",\"g\"]\n",
    "for i in range(len(M)):\n",
    "    print(M[i])"
   ]
  },
  {
   "cell_type": "markdown",
   "metadata": {},
   "source": [
    "indeces start form 0 and range to the length of the list excluded. Consider this list of functions:"
   ]
  },
  {
   "cell_type": "code",
   "execution_count": 8,
   "metadata": {},
   "outputs": [
    {
     "name": "stdout",
     "output_type": "stream",
     "text": [
      "2\n",
      "4\n",
      "8\n",
      "3\n",
      "9\n",
      "27\n"
     ]
    }
   ],
   "source": [
    "S = [lambda x : x,lambda x : x**2,lambda x : x**3]\n",
    "for f in S:\n",
    "    print(f(2))\n",
    "\n",
    "print(S[0](3))\n",
    "print(S[1](3))\n",
    "print(S[2](3))"
   ]
  },
  {
   "cell_type": "markdown",
   "metadata": {},
   "source": [
    "Consider the sintax `S[1](3)` the square brackets `[]` acces to the 0-th elemnt of the list `S`, wich is the function $f(x) = x^2$. The round brackets `()` apply the function $f(3) = 9$. If we now think of `S` as the space of functions:\n",
    "$$\n",
    "S = \\left\\{\\,f_0(x) = x,\\ f_1(x) = x^2,\\ f_2(x) = x^3\\,\\right\\},\n",
    "$$\n",
    "well this is a very mathemathically sounding way of coding.\n",
    "\n",
    "**The more mathematically sounding is the code, the easier to debug it.**"
   ]
  },
  {
   "cell_type": "markdown",
   "metadata": {},
   "source": [
    "## Dictionaries\n",
    "\n",
    "Dictionaries can be though as lists, where, instead of associating an integer to the entry, we can associate a generic `key`. In the example below we are associating a string to an integer:"
   ]
  },
  {
   "cell_type": "code",
   "execution_count": 10,
   "metadata": {},
   "outputs": [
    {
     "name": "stdout",
     "output_type": "stream",
     "text": [
      "123\n"
     ]
    }
   ],
   "source": [
    "D = {\"a\":5, \"b\":7, \"h\":123}\n",
    "print(D[\"h\"])"
   ]
  },
  {
   "cell_type": "markdown",
   "metadata": {},
   "source": [
    "In our case we have:\n",
    "$$\n",
    "\\Omega_{\\mathrm{index}} = \\left\\{ x,y\\ |\\ f_{\\mathrm{index}}(x,y) < \\mathrm{condition} \\right\\}\n",
    "$$\n",
    "Here comes the question: we introced dictionaries, as evolution of lists because we thought that `indeces` where not good enought to store data, and now we are back to associating indeces to domains $\\Omega$?!?!?! How is tha tpossible?!?!? \n",
    "\n",
    "Well the thing here is a little up to personal taste, but, array indeces are **ordered**, and in this case I want to spend 0 time in thinking about the correct order to give formulas, I want to focuse on the correct indexing to match the one specified in the paper. For example I want to be free to write:\n",
    "```\n",
    "omega = {} # the empty dictionary\n",
    "omega[4] = lambda x,y : np.sqrt(x**2+y**2)\n",
    "```\n",
    "For example, with this technique I can start implementing my code from the esasiest function to debug.\n",
    "\n",
    "A second reason is that I want my code to be **reusable**. This section of code can be easyly reused to adapt to a different notation where domains are indexed using letters instead of numbers:\n",
    "$$\n",
    "\\Omega_{a} = \\left\\{ x,y\\ |\\ a(x,y) < \\mathrm{condition} \\right\\}\n",
    "$$\n",
    "$$\n",
    "\\Omega_{b} = \\left\\{ x,y\\ |\\ b(x,y) < \\mathrm{condition} \\right\\}\n",
    "$$\n",
    "\n",
    "```\n",
    "omega = {} # the empty dictionary\n",
    "a = lambda x,y : np.sqrt(x**2+y**2)\n",
    "b = lambda x,y : np.sqrt(x**2-y**2)\n",
    "omega[\"a\"] = a\n",
    "omega[\"b\"] = b\n",
    "```"
   ]
  },
  {
   "cell_type": "code",
   "execution_count": null,
   "metadata": {},
   "outputs": [],
   "source": []
  }
 ],
 "metadata": {
  "kernelspec": {
   "display_name": "Python 3",
   "language": "python",
   "name": "python3"
  },
  "language_info": {
   "codemirror_mode": {
    "name": "ipython",
    "version": 3
   },
   "file_extension": ".py",
   "mimetype": "text/x-python",
   "name": "python",
   "nbconvert_exporter": "python",
   "pygments_lexer": "ipython3",
   "version": "3.7.2"
  }
 },
 "nbformat": 4,
 "nbformat_minor": 2
}
